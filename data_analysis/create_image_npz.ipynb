{
  "cells": [
    {
      "cell_type": "code",
      "execution_count": 1,
      "metadata": {
        "id": "603tRysIDCuA"
      },
      "outputs": [],
      "source": [
        "from tqdm import tqdm\n",
        "import numpy as np\n",
        "import os\n",
        "import sys\n",
        "\n",
        "sys.path.append('../')\n",
        "from batchers import dataset_constants, batcher\n",
        "from preprocessing.helper import (get_first_feature_map, get_feature_types, print_scalar_values)"
      ]
    },
    {
      "cell_type": "code",
      "execution_count": 2,
      "metadata": {
        "id": "JDbJ7U19EDYL"
      },
      "outputs": [],
      "source": [
        "BAND_ORDER = ['BLUE', 'GREEN', 'RED', 'SWIR1', 'SWIR2', 'TEMP1', 'NIR', 'NIGHTLIGHTS']\n",
        "BAND_ORDER_NLSPLIT = ['BLUE', 'GREEN', 'RED', 'SWIR1', 'SWIR2', 'TEMP1', 'NIR', 'DMSP', 'VIIRS']\n",
        "\n",
        "DATASET = '2009-17'\n",
        "SIZES = dataset_constants.SIZES\n",
        "SURVEY_NAMES = dataset_constants.SURVEY_NAMES\n",
        "MEANS = dataset_constants.MEANS_DICT[DATASET]\n",
        "STD_DEVS = dataset_constants.STD_DEVS_DICT[DATASET]"
      ]
    },
    {
      "cell_type": "code",
      "execution_count": 3,
      "metadata": {
        "id": "xr3T-vAaEjjn"
      },
      "outputs": [],
      "source": [
        "train_tfrecord_paths = np.asarray(batcher.get_tfrecord_paths(DATASET, 'train'))\n",
        "val_tfrecord_paths = np.asarray(batcher.get_tfrecord_paths(DATASET, 'val'))\n",
        "test_tfrecord_paths = np.asarray(batcher.get_tfrecord_paths(DATASET, 'test'))"
      ]
    },
    {
      "cell_type": "code",
      "execution_count": 4,
      "metadata": {
        "id": "UpNzHluXW8rX"
      },
      "outputs": [],
      "source": [
        "def band_keys_for_year(band_keys, year):\n",
        "    '''\n",
        "    Args\n",
        "    - band_keys: list of str, including 'NIGHTLIGHTS'\n",
        "    - year: numeric\n",
        "    Returns\n",
        "    - new_band_keys: copy of band_keys with 'NIGHTLIGHTS' replaced by 'DMSP' or 'VIIRS'\n",
        "    '''\n",
        "    new_band_keys = list(band_keys) # make a local copy\n",
        "    new_band_keys[band_keys.index('NIGHTLIGHTS')] = 'DMSP' if year < 2012 else 'VIIRS'\n",
        "    return new_band_keys\n",
        "\n",
        "def get_image_from_file(path):\n",
        "    feature_map = get_first_feature_map(path)\n",
        "\n",
        "    label = np.float32(feature_map['wealthpooled'].float_list.value[0])\n",
        "    lat = np.float32(feature_map['lat'].float_list.value[0])\n",
        "    lon = np.float32(feature_map['lon'].float_list.value[0])\n",
        "    country = feature_map['country'].bytes_list.value[0].decode()\n",
        "    year = int(feature_map['year'].float_list.value[0])\n",
        "    cluster_index = int(feature_map['cluster_index'].float_list.value[0])\n",
        "    svyid = feature_map['svyid'].bytes_list.value[0].decode()\n",
        "\n",
        "    # choose 'DMSP' or 'VIIRS' for nightlights band name based on year\n",
        "    band_keys_nl = band_keys_for_year(BAND_ORDER, year)\n",
        "\n",
        "    img_normalized = []\n",
        "    for b_idx, b_name in enumerate(BAND_ORDER):\n",
        "        band = np.asarray(feature_map[b_name].float_list.value, dtype=np.float32).reshape(255, 255)\n",
        "        b = band_keys_nl[b_idx]\n",
        "        band = (band - MEANS[b]) / STD_DEVS[b]\n",
        "        img_normalized.append(band)\n",
        "    img_normalized = np.stack(img_normalized, axis=2)\n",
        "\n",
        "    return img_normalized, np.array([label, lat, lon, country, year, cluster_index, svyid])"
      ]
    },
    {
      "cell_type": "code",
      "execution_count": 8,
      "metadata": {
        "id": "RCH7XiQQXnE0"
      },
      "outputs": [
        {
          "name": "stderr",
          "output_type": "stream",
          "text": [
            "  0%|          | 0/6000 [00:00<?, ?it/s]2023-12-28 00:24:44.549108: I tensorflow/core/common_runtime/pluggable_device/pluggable_device_factory.cc:305] Could not identify NUMA node of platform GPU ID 0, defaulting to 0. Your kernel may not have been built with NUMA support.\n",
            "2023-12-28 00:24:44.549358: I tensorflow/core/common_runtime/pluggable_device/pluggable_device_factory.cc:271] Created TensorFlow device (/job:localhost/replica:0/task:0/device:GPU:0 with 0 MB memory) -> physical PluggableDevice (device: 0, name: METAL, pci bus id: <undefined>)\n",
            "2023-12-28 00:24:44.568794: W tensorflow/core/platform/profile_utils/cpu_utils.cc:128] Failed to get CPU frequency: 0 Hz\n",
            "  0%|          | 2/6000 [00:00<05:49, 17.14it/s]"
          ]
        },
        {
          "name": "stdout",
          "output_type": "stream",
          "text": [
            "Metal device set to: Apple M2\n",
            "\n",
            "systemMemory: 16.00 GB\n",
            "maxCacheSize: 5.33 GB\n",
            "\n"
          ]
        },
        {
          "name": "stderr",
          "output_type": "stream",
          "text": [
            " 88%|████████▊ | 5306/6000 [03:58<00:31, 22.20it/s]"
          ]
        }
      ],
      "source": [
        "train_imgs1 = []\n",
        "train_details1 = []\n",
        "for path in tqdm(train_tfrecord_paths[0:6000]):\n",
        "    img, details = get_image_from_file(path)\n",
        "    train_imgs1.append(img)\n",
        "    train_details1.append(details)\n",
        "\n",
        "np.savez_compressed(\"../data/train1.npz\", imgs=np.array(train_imgs1), details=np.array(train_details1))"
      ]
    },
    {
      "cell_type": "code",
      "execution_count": 6,
      "metadata": {},
      "outputs": [
        {
          "name": "stderr",
          "output_type": "stream",
          "text": [
            "  0%|          | 0/6319 [00:00<?, ?it/s]2023-12-28 09:01:04.011019: I tensorflow/core/common_runtime/pluggable_device/pluggable_device_factory.cc:305] Could not identify NUMA node of platform GPU ID 0, defaulting to 0. Your kernel may not have been built with NUMA support.\n",
            "2023-12-28 09:01:04.013574: I tensorflow/core/common_runtime/pluggable_device/pluggable_device_factory.cc:271] Created TensorFlow device (/job:localhost/replica:0/task:0/device:GPU:0 with 0 MB memory) -> physical PluggableDevice (device: 0, name: METAL, pci bus id: <undefined>)\n",
            "2023-12-28 09:01:04.147220: W tensorflow/core/platform/profile_utils/cpu_utils.cc:128] Failed to get CPU frequency: 0 Hz\n",
            "  0%|          | 1/6319 [00:00<27:43,  3.80it/s]"
          ]
        },
        {
          "name": "stdout",
          "output_type": "stream",
          "text": [
            "Metal device set to: Apple M2\n",
            "\n",
            "systemMemory: 16.00 GB\n",
            "maxCacheSize: 5.33 GB\n",
            "\n"
          ]
        },
        {
          "name": "stderr",
          "output_type": "stream",
          "text": [
            "100%|██████████| 6319/6319 [04:46<00:00, 22.06it/s]\n"
          ]
        }
      ],
      "source": [
        "train_imgs2 = []\n",
        "train_details2 = []\n",
        "for path in tqdm(train_tfrecord_paths[6000:12319]):\n",
        "    img, details = get_image_from_file(path)\n",
        "    train_imgs2.append(img)\n",
        "    train_details2.append(details)\n",
        "\n",
        "np.savez_compressed(\"../data/train2.npz\", imgs=np.array(train_imgs2), details=np.array(train_details2))"
      ]
    },
    {
      "cell_type": "code",
      "execution_count": 11,
      "metadata": {
        "id": "ZYLf9Aztfc7r"
      },
      "outputs": [
        {
          "name": "stderr",
          "output_type": "stream",
          "text": [
            "100%|██████████| 3257/3257 [02:22<00:00, 22.79it/s]\n"
          ]
        }
      ],
      "source": [
        "val_imgs = []\n",
        "val_details = []\n",
        "for path in tqdm(val_tfrecord_paths):\n",
        "    img, details = get_image_from_file(path)\n",
        "    val_imgs.append(img)\n",
        "    val_details.append(details)\n",
        "\n",
        "np.savez_compressed(\"../data/val.npz\", imgs=np.array(val_imgs), details=np.array(val_details))"
      ]
    },
    {
      "cell_type": "code",
      "execution_count": 10,
      "metadata": {
        "id": "PQ1hauazhSBa"
      },
      "outputs": [
        {
          "name": "stderr",
          "output_type": "stream",
          "text": [
            "100%|██████████| 4093/4093 [03:04<00:00, 22.17it/s]\n"
          ]
        }
      ],
      "source": [
        "test_imgs = []\n",
        "test_details = []\n",
        "for path in tqdm(test_tfrecord_paths):\n",
        "    img, details = get_image_from_file(path)\n",
        "    test_imgs.append(img)\n",
        "    test_details.append(details)\n",
        "\n",
        "np.savez_compressed(\"../data/test.npz\", imgs=np.array(test_imgs), details=np.array(test_details))"
      ]
    },
    {
      "cell_type": "code",
      "execution_count": 5,
      "metadata": {
        "id": "TU8KHSahfrbn"
      },
      "outputs": [
        {
          "name": "stdout",
          "output_type": "stream",
          "text": [
            "(6000, 255, 255, 8)\n",
            "(6000, 7)\n"
          ]
        }
      ],
      "source": [
        "# train = np.load(\"../data/train1.npz\")\n",
        "# print(np.shape(train['imgs']))\n",
        "# print(np.shape(train['details']))"
      ]
    },
    {
      "cell_type": "code",
      "execution_count": null,
      "metadata": {},
      "outputs": [],
      "source": []
    }
  ],
  "metadata": {
    "colab": {
      "provenance": []
    },
    "kernelspec": {
      "display_name": "Python 3.9.18 ('thesis')",
      "language": "python",
      "name": "python3"
    },
    "language_info": {
      "codemirror_mode": {
        "name": "ipython",
        "version": 3
      },
      "file_extension": ".py",
      "mimetype": "text/x-python",
      "name": "python",
      "nbconvert_exporter": "python",
      "pygments_lexer": "ipython3",
      "version": "3.9.18"
    },
    "vscode": {
      "interpreter": {
        "hash": "bac7d404a9b2cd026b322c5f08efe008a0a59f412dc5f6e52d910955b57615ab"
      }
    }
  },
  "nbformat": 4,
  "nbformat_minor": 0
}
