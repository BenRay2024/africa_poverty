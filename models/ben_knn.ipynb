{
 "cells": [
  {
   "cell_type": "markdown",
   "metadata": {},
   "source": [
    "# KNN"
   ]
  },
  {
   "cell_type": "markdown",
   "metadata": {},
   "source": [
    "## Imports"
   ]
  },
  {
   "cell_type": "code",
   "execution_count": 1,
   "metadata": {},
   "outputs": [],
   "source": [
    "%load_ext autoreload\n",
    "%autoreload 2\n",
    "%matplotlib inline"
   ]
  },
  {
   "cell_type": "code",
   "execution_count": 2,
   "metadata": {},
   "outputs": [],
   "source": [
    "from collections import defaultdict\n",
    "import os\n",
    "import pickle\n",
    "import sys\n",
    "\n",
    "import matplotlib.pyplot as plt\n",
    "import numpy as np\n",
    "import pandas as pd\n",
    "import sklearn.ensemble\n",
    "import sklearn.neighbors\n",
    "\n",
    "sys.path.append('../')\n",
    "from batchers import batcher, dataset_constants\n",
    "from models.histograms import (\n",
    "    get_per_image_histograms,\n",
    "    plot_band_hists,\n",
    "    plot_label_hist,\n",
    "    split_nl_hist)\n",
    "from models.linear_model import ridge_cv\n",
    "from models.knn import knn_cv_opt\n",
    "from utils.analysis import calc_score, evaluate\n",
    "from utils.general import load_npz\n",
    "from utils.plot import scatter_preds"
   ]
  },
  {
   "cell_type": "code",
   "execution_count": 3,
   "metadata": {},
   "outputs": [],
   "source": [
    "os.environ['CUDA_VISIBLE_DEVICES'] = ''\n",
    "\n",
    "DATASET_NAME = '2009-17'\n",
    "LABEL_NAME = 'wealthpooled'\n",
    "\n",
    "FOLDS = ['A', 'B', 'C', 'D', 'E']\n",
    "SPLITS = ['train', 'val', 'test']\n",
    "COUNTRIES = dataset_constants.DHS_COUNTRIES\n",
    "\n",
    "MEANS = dataset_constants.MEANS_DICT[DATASET_NAME]\n",
    "STD_DEVS = dataset_constants.STD_DEVS_DICT[DATASET_NAME]\n",
    "\n",
    "LOGS_ROOT_DIR = '../logs/'"
   ]
  },
  {
   "cell_type": "code",
   "execution_count": 4,
   "metadata": {},
   "outputs": [
    {
     "name": "stdout",
     "output_type": "stream",
     "text": [
      "image_hists: dtype=int64, shape=(19669, 8, 102)\n",
      "labels: dtype=float32, shape=(19669,)\n",
      "locs: dtype=float32, shape=(19669, 2)\n",
      "years: dtype=int32, shape=(19669,)\n",
      "nls_center: dtype=float32, shape=(19669,)\n",
      "nls_mean: dtype=float32, shape=(19669,)\n"
     ]
    }
   ],
   "source": [
    "file_path = '../data/dhs_image_hists.npz'\n",
    "\n",
    "result = load_npz(file_path)\n",
    "image_hists = result['image_hists'] # 8 bands: ['BLUE', 'GREEN', 'RED', 'SWIR1', 'SWIR2', 'TEMP1', 'NIR', 'NIGHTLIGHTS']\n",
    "labels = result['labels']\n",
    "locs = result['locs']\n",
    "years = result['years']\n",
    "nls_center = result['nls_center']\n",
    "nls_mean = result['nls_mean']\n",
    "\n",
    "dmsp_mask = years < 2012\n",
    "viirs_mask = ~dmsp_mask\n",
    "\n",
    "# split NL band\n",
    "image_hists = split_nl_hist(image_hists, years) # 9 bands: ['BLUE', 'GREEN', 'RED', 'SWIR1', 'SWIR2', 'TEMP1', 'NIR', 'DMSP', 'VIIRS']"
   ]
  },
  {
   "cell_type": "markdown",
   "metadata": {},
   "source": [
    "## Load folds"
   ]
  },
  {
   "cell_type": "markdown",
   "metadata": {},
   "source": [
    "### Incountry folds + loc_dict\n",
    "\n",
    "`loc_dict` has the format:\n",
    "```python\n",
    "{\n",
    "    (lat, lon): {\n",
    "        'cluster': 1,\n",
    "        'country': 'malawi',\n",
    "        'country_year': 'malawi_2012',  # surveyID\n",
    "        'households': 25,\n",
    "        'urban': False,\n",
    "        'wealth': -0.513607621192932,\n",
    "        'wealthpooled': -0.732255101203918,\n",
    "        'year': 2012\n",
    "    }, ...\n",
    "}\n",
    "```\n",
    "\n",
    "NOTE: `year` and `country_year` might differ in the year. `country_year` is the survey ID, which says which year the survey started. However, sometimes the DHS surveys cross the year-boundary, in which case `country_year` will remain the same but `year` will be the next year."
   ]
  },
  {
   "cell_type": "code",
   "execution_count": 7,
   "metadata": {},
   "outputs": [],
   "source": [
    "with open('../data/dhs_incountry_folds.pkl', 'rb') as f:\n",
    "    incountry_folds = pickle.load(f)\n",
    "\n",
    "with open('../data/dhs_loc_dict.pkl', 'rb') as f:\n",
    "    loc_dict = pickle.load(f)\n",
    "\n",
    "incountry_group_labels = np.zeros_like(labels, dtype=np.int32)\n",
    "for i, f in enumerate(FOLDS):\n",
    "    test_indices = incountry_folds[f]['test']\n",
    "    incountry_group_labels[test_indices] = i"
   ]
  },
  {
   "cell_type": "markdown",
   "metadata": {},
   "source": [
    "### `country_indices` and `country_labels`\n",
    "\n",
    "`country_indices` is a dictionary that maps a country name to a sorted `np.array` of its indices\n",
    "```python\n",
    "{ 'malawi': np.array([ 8530,  8531,  8532, ..., 10484, 10485, 10486]), ... }\n",
    "```\n",
    "\n",
    "`country_labels` is a `np.array` that shows which country each example belongs to\n",
    "```python\n",
    "np.array([0, 0, 0, 0, ..., 22, 22, 22])\n",
    "```\n",
    "where countries are indexed by their position in `dataset_constants.DHS_COUNTRIES`"
   ]
  },
  {
   "cell_type": "code",
   "execution_count": 8,
   "metadata": {},
   "outputs": [],
   "source": [
    "country_indices = defaultdict(list)  # country => np.array of indices\n",
    "country_labels = np.zeros(len(locs), dtype=np.int32)  # np.array of country labels\n",
    "households = np.zeros(len(locs), dtype=np.int32)  # np.array of household counts\n",
    "\n",
    "for i, loc in enumerate(locs):\n",
    "    country = loc_dict[tuple(loc)]['country']\n",
    "    country_indices[country].append(i)\n",
    "    households[i] = loc_dict[tuple(loc)]['households']\n",
    "\n",
    "for i, country in enumerate(COUNTRIES):\n",
    "    country_indices[country] = np.asarray(country_indices[country])\n",
    "    indices = country_indices[country]\n",
    "    country_labels[indices] = i"
   ]
  },
  {
   "cell_type": "markdown",
   "metadata": {},
   "source": [
    "### OOC folds"
   ]
  },
  {
   "cell_type": "code",
   "execution_count": 19,
   "metadata": {},
   "outputs": [],
   "source": [
    "# 'A': {\n",
    "#     'train': np.array([1, 10, 13, ...]),\n",
    "#     ...\n",
    "# }\n",
    "ooc_folds = {\n",
    "    f: {split: [] for split in SPLITS}\n",
    "    for f in FOLDS\n",
    "}\n",
    "\n",
    "for f in FOLDS:\n",
    "    surveys_dict = dataset_constants.SURVEY_NAMES[f'2009-17{f}']\n",
    "    for split, countries in surveys_dict.items():\n",
    "        split_indices = np.sort(np.concatenate([\n",
    "            country_indices[country] for country in countries\n",
    "        ]))\n",
    "        ooc_folds[f][split] = split_indices"
   ]
  },
  {
   "cell_type": "markdown",
   "metadata": {},
   "source": [
    "## KNN (OOC, leave-one-country-out)"
   ]
  },
  {
   "cell_type": "code",
   "execution_count": 9,
   "metadata": {},
   "outputs": [],
   "source": [
    "def knn_ooc_wrapper(img_hists, model_name, years=None):\n",
    "    savedir = os.path.join(LOGS_ROOT_DIR, 'dhs_knn', model_name)\n",
    "    features = img_hists.reshape(len(img_hists), -1)\n",
    "\n",
    "    filename = 'test_preds.npz'\n",
    "    npz_path = os.path.join(savedir, filename)\n",
    "    # assert not os.path.exists(npz_path)\n",
    "\n",
    "    dmsp_mask = years < 2012\n",
    "    viirs_mask = ~dmsp_mask\n",
    "    test_preds = np.zeros(len(image_hists), dtype=np.float32)\n",
    "    for mask in [dmsp_mask, viirs_mask]:\n",
    "        test_preds[mask] = knn_cv_opt(\n",
    "            features=features[mask], labels=labels[mask],\n",
    "            group_labels=country_labels[mask], group_names=COUNTRIES)\n",
    "\n",
    "    os.makedirs(savedir, exist_ok=True)\n",
    "    save_dict = {\n",
    "        'labels': labels,\n",
    "        'test_preds': test_preds\n",
    "    }\n",
    "    print('saving test preds to:', npz_path)\n",
    "    np.savez_compressed(npz_path, **save_dict)\n",
    "\n",
    "    evaluate(labels=labels, preds=test_preds, do_print=True,\n",
    "                title='DMSP and VIIRS test preds')"
   ]
  },
  {
   "cell_type": "code",
   "execution_count": 10,
   "metadata": {},
   "outputs": [
    {
     "name": "stdout",
     "output_type": "stream",
     "text": [
      "Pre-computing distance matrix... took 0.18 seconds.\n",
      "Group: angola\n",
      "best val mse: 0.196, best k: 64, test mse: 0.354\n",
      "Group: benin\n",
      "no examples corresponding to group benin were found\n",
      "Group: burkina_faso\n",
      "best val mse: 0.218, best k: 256, test mse: 0.158\n",
      "Group: cameroon\n",
      "best val mse: 0.199, best k: 64, test mse: 0.315\n",
      "Group: cote_d_ivoire\n",
      "no examples corresponding to group cote_d_ivoire were found\n",
      "Group: democratic_republic_of_congo\n",
      "no examples corresponding to group democratic_republic_of_congo were found\n",
      "Group: ethiopia\n",
      "best val mse: 0.206, best k: 128, test mse: 0.219\n",
      "Group: ghana\n",
      "no examples corresponding to group ghana were found\n",
      "Group: guinea\n",
      "no examples corresponding to group guinea were found\n",
      "Group: kenya\n",
      "no examples corresponding to group kenya were found\n",
      "Group: lesotho\n",
      "best val mse: 0.208, best k: 256, test mse: 0.138\n",
      "Group: malawi\n",
      "best val mse: 0.207, best k: 256, test mse: 0.179\n",
      "Group: mali\n",
      "no examples corresponding to group mali were found\n",
      "Group: mozambique\n",
      "best val mse: 0.210, best k: 512, test mse: 0.193\n",
      "Group: nigeria\n",
      "best val mse: 0.204, best k: 256, test mse: 0.269\n",
      "Group: rwanda\n",
      "best val mse: 0.217, best k: 512, test mse: 0.091\n",
      "Group: senegal\n",
      "best val mse: 0.200, best k: 64, test mse: 0.334\n",
      "Group: sierra_leone\n",
      "no examples corresponding to group sierra_leone were found\n",
      "Group: tanzania\n",
      "best val mse: 0.221, best k: 512, test mse: 0.150\n",
      "Group: togo\n",
      "no examples corresponding to group togo were found\n",
      "Group: uganda\n",
      "best val mse: 0.211, best k: 256, test mse: 0.109\n",
      "Group: zambia\n",
      "no examples corresponding to group zambia were found\n",
      "Group: zimbabwe\n",
      "best val mse: 0.196, best k: 128, test mse: 0.370\n",
      "Pooled test preds\t- r^2: 0.668, R^2: 0.668, mse: 0.203, rank: 0.687\n",
      "Pre-computing distance matrix... took 0.44 seconds.\n",
      "Group: angola\n",
      "best val mse: 0.230, best k: 512, test mse: 0.369\n",
      "Group: benin\n",
      "best val mse: 0.244, best k: 512, test mse: 0.148\n",
      "Group: burkina_faso\n",
      "best val mse: 0.240, best k: 512, test mse: 0.105\n",
      "Group: cameroon\n",
      "no examples corresponding to group cameroon were found\n",
      "Group: cote_d_ivoire\n",
      "best val mse: 0.239, best k: 512, test mse: 0.195\n",
      "Group: democratic_republic_of_congo\n",
      "best val mse: 0.238, best k: 512, test mse: 0.218\n",
      "Group: ethiopia\n",
      "best val mse: 0.235, best k: 512, test mse: 0.282\n",
      "Group: ghana\n",
      "best val mse: 0.237, best k: 512, test mse: 0.248\n",
      "Group: guinea\n",
      "best val mse: 0.239, best k: 512, test mse: 0.163\n",
      "Group: kenya\n",
      "best val mse: 0.245, best k: 512, test mse: 0.198\n",
      "Group: lesotho\n",
      "best val mse: 0.240, best k: 512, test mse: 0.175\n",
      "Group: malawi\n",
      "best val mse: 0.238, best k: 512, test mse: 0.229\n",
      "Group: mali\n",
      "best val mse: 0.243, best k: 512, test mse: 0.137\n",
      "Group: mozambique\n",
      "no examples corresponding to group mozambique were found\n",
      "Group: nigeria\n",
      "best val mse: 0.213, best k: 512, test mse: 0.457\n",
      "Group: rwanda\n",
      "best val mse: 0.239, best k: 512, test mse: 0.190\n",
      "Group: senegal\n",
      "best val mse: 0.237, best k: 512, test mse: 0.281\n",
      "Group: sierra_leone\n",
      "best val mse: 0.241, best k: 512, test mse: 0.153\n",
      "Group: tanzania\n",
      "best val mse: 0.242, best k: 512, test mse: 0.151\n",
      "Group: togo\n",
      "best val mse: 0.241, best k: 512, test mse: 0.114\n",
      "Group: uganda\n",
      "best val mse: 0.240, best k: 512, test mse: 0.116\n",
      "Group: zambia\n",
      "best val mse: 0.235, best k: 512, test mse: 0.288\n",
      "Group: zimbabwe\n",
      "best val mse: 0.232, best k: 512, test mse: 0.385\n",
      "Pooled test preds\t- r^2: 0.635, R^2: 0.635, mse: 0.237, rank: 0.728\n",
      "saving test preds to: ../logs/dhs_knn/nlmean_scalar/test_preds.npz\n",
      "DMSP and VIIRS test preds\t- r^2: 0.656, R^2: 0.656, mse: 0.225, rank: 0.748\n"
     ]
    }
   ],
   "source": [
    "model_name = 'nlmean_scalar'\n",
    "knn_ooc_wrapper(model_name=model_name, img_hists=nls_mean, years=years)"
   ]
  },
  {
   "cell_type": "code",
   "execution_count": 12,
   "metadata": {},
   "outputs": [
    {
     "name": "stdout",
     "output_type": "stream",
     "text": [
      "labels: dtype=float32, shape=(19669,)\n",
      "test_preds: dtype=float32, shape=(19669,)\n"
     ]
    }
   ],
   "source": [
    "results = load_npz(\"../logs/dhs_knn/nlmean_scalar/test_preds.npz\")"
   ]
  },
  {
   "cell_type": "code",
   "execution_count": 16,
   "metadata": {},
   "outputs": [],
   "source": [
    "correlation_coefficient = np.corrcoef(results['labels'], results['test_preds'])[0,1]"
   ]
  },
  {
   "cell_type": "code",
   "execution_count": 17,
   "metadata": {},
   "outputs": [
    {
     "data": {
      "text/plain": [
       "0.8100337075857674"
      ]
     },
     "execution_count": 17,
     "metadata": {},
     "output_type": "execute_result"
    }
   ],
   "source": [
    "correlation_coefficient"
   ]
  }
 ],
 "metadata": {
  "kernelspec": {
   "display_name": "Python 3.9.18 ('thesis')",
   "language": "python",
   "name": "python3"
  },
  "language_info": {
   "codemirror_mode": {
    "name": "ipython",
    "version": 3
   },
   "file_extension": ".py",
   "mimetype": "text/x-python",
   "name": "python",
   "nbconvert_exporter": "python",
   "pygments_lexer": "ipython3",
   "version": "3.9.18"
  },
  "orig_nbformat": 4,
  "vscode": {
   "interpreter": {
    "hash": "bac7d404a9b2cd026b322c5f08efe008a0a59f412dc5f6e52d910955b57615ab"
   }
  }
 },
 "nbformat": 4,
 "nbformat_minor": 2
}
